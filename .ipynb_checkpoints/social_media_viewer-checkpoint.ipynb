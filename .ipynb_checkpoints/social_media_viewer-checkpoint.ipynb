{
 "cells": [
  {
   "cell_type": "markdown",
   "metadata": {},
   "source": [
    "## Social media viewer"
   ]
  },
  {
   "cell_type": "code",
   "execution_count": 3,
   "metadata": {},
   "outputs": [],
   "source": [
    "from ipyleaflet import Map, Marker, MarkerCluster, basemaps, Popup\n",
    "from ipywidgets import Output, HTML, widgets\n",
    "from ipyleaflet import AwesomeIcon\n"
   ]
  },
  {
   "cell_type": "code",
   "execution_count": 4,
   "metadata": {},
   "outputs": [],
   "source": [
    "import pandas as pd\n",
    "df = pd.read_csv(\"Flickr/Flickr_metadata.csv\")\n",
    "df_sv = pd.read_csv('Street_View/meta_streetview_useful.csv')\n",
    "#df_sv.head()"
   ]
  },
  {
   "cell_type": "code",
   "execution_count": 5,
   "metadata": {},
   "outputs": [],
   "source": [
    "class GlobalThing:\n",
    "    def __init__(self, df, displayed_colnames = None):\n",
    "        self.marker_info = dict()\n",
    "        self.df = df\n",
    "        if displayed_colnames is None:\n",
    "            displayed_colnames = [\"Image\"]\n",
    "        self.displayed_colnames = displayed_colnames\n",
    "    \n",
    "    def add_marker_info(self, lat, lon, Image):\n",
    "        self.marker_info[(lat, lon)] = Image\n",
    "    \n",
    "    def get_code(self, lat, lon):\n",
    "        return self.marker_info[(lat,lon)]\n",
    "\n",
    "    def data_for_hydroid(self, ident):\n",
    "        df_sub = self.bore_data.loc[df[\"Image\"] == ident]\n",
    "        return df_sub[self.displayed_colnames]\n",
    "\n",
    "    def register_geolocations(self, geoloc):\n",
    "        for index, row in geoloc.iterrows():\n",
    "            self.add_marker_info(row.Lat, row.Lon)\n",
    "            \n",
    "globalthing = GlobalThing(df, displayed_colnames=['Image'])\n"
   ]
  },
  {
   "cell_type": "code",
   "execution_count": 8,
   "metadata": {},
   "outputs": [],
   "source": [
    "def plot_map(geoloc, geoloc_sv, click_handler):\n",
    "    \"\"\"\n",
    "    Plot the markers for each borehole, and register a custom click_handler\n",
    "    \"\"\"\n",
    "    mean_lat = geoloc_sv.Lat.mean()\n",
    "    mean_lng = geoloc_sv.Lon.mean()\n",
    "    center = [-14, -40]\n",
    "    # create the map\n",
    "    m = Map(basemap=basemaps.Stamen.Terrain,center=center, zoom=4, scroll_wheel_zoom=True)\n",
    "    m.layout.height = '1200px'\n",
    "    # show trace\n",
    "    markers_sv = []\n",
    "    markers = []\n",
    "    long_string_to_enlarge_the_image = \"...........\"*7\n",
    "    # long_string_to_enlarge_the_image = \"&nbsp; \"#*7\n",
    "    for index, row,  in geoloc.iterrows():\n",
    "        message = HTML()\n",
    "        image_str = str(row.Image)\n",
    "        image_path = f\"Flickr/{image_str}.jpg\"\n",
    "       \n",
    "        image_html_path = f'<img src=\"{image_path}\" width=\"500\" height =\"500\"></img>{long_string_to_enlarge_the_image}'\n",
    "        message = HTML(image_html_path)\n",
    "        marker = Marker(location=(row.Lat, row.Lon),draggable=False)\n",
    "        # marker.on_click(click_handler)\n",
    "        marker.popup = Popup( child=message, close_button=True, auto_close=False, close_on_escape_key=True, \n",
    "             max_width=600, max_height=600)\n",
    "        markers.append(marker)\n",
    "    marker_cluster = MarkerCluster(\n",
    "        markers=markers\n",
    "    )\n",
    "    for index, row,  in geoloc_sv.iterrows():\n",
    "        message = HTML()\n",
    "        image_str = str(row.Panoid)\n",
    "        image_path = f\"Street_View/{image_str}.jpg\"\n",
    "        \n",
    "        image_html_path = f'<img src=\"{image_path} width=\"500\" height =\"500\"></img>{long_string_to_enlarge_the_image}'\n",
    "        message = HTML(image_html_path)\n",
    "        marker = Marker(location=(row.Lat, row.Lon), draggable = False, icon = AwesomeIcon(name='globe', marker_color='red') )\n",
    "        # marker.on_click(click_handler)\n",
    "        marker.popup = Popup( child=message, close_button=True, auto_close=False, close_on_escape_key=True, \n",
    "             max_width=900, max_height=600)\n",
    "        markers_sv.append(marker)\n",
    "    marker_cluster_sv = MarkerCluster(\n",
    "        markers=markers_sv\n",
    "    )\n",
    "    # not sure whether we could register once instead of each marker:\n",
    "    # marker_cluster.on_click(click_handler)\n",
    "    m.add_layer(marker_cluster);\n",
    "    m.add_layer(marker_cluster_sv)\n",
    "    # m.add_control(FullScreenControl())\n",
    "    return m\n",
    "\n",
    "# If printing a data frame straight to an output widget\n",
    "def raw_print(out, ident):\n",
    "    bore_data = globalthing.data_for_hydroid(ident)\n",
    "    out.clear_output()\n",
    "    with out:\n",
    "        print(ident)        \n",
    "        print(bore_data)\n",
    "        \n",
    "def click_handler_rawprint(**kwargs):\n",
    "    blah = dict(**kwargs)\n",
    "    xy = blah['coordinates']\n",
    "    print(xy)\n",
    "    ident = globalthing.get_code(xy[0], xy[1])\n",
    "    raw_print(out, ident)\n",
    "\n",
    "    # to display using an ipysheet\n",
    "def mk_sheet(d):\n",
    "    return ipysheet.pandas_loader.from_dataframe(d)\n",
    "\n",
    "def upate_display_df(ident):\n",
    "    bore_data = globalthing.data_for_hydroid(ident)\n",
    "    out.clear_output()\n",
    "    with out:\n",
    "        display(mk_sheet(bore_data))        \n",
    "\n",
    "def click_handler_ipysheet(**kwargs):\n",
    "    blah = dict(**kwargs)\n",
    "    xy = blah['coordinates']\n",
    "    ident = globalthing.get_code(xy[0], xy[1])\n",
    "    upate_display_df(ident)\n"
   ]
  },
  {
   "cell_type": "code",
   "execution_count": 9,
   "metadata": {},
   "outputs": [
    {
     "data": {
      "application/vnd.jupyter.widget-view+json": {
       "model_id": "550a2d27147346f6833e9dc3313a5aef",
       "version_major": 2,
       "version_minor": 0
      },
      "text/plain": [
       "Map(center=[-14, -40], controls=(ZoomControl(options=['position', 'zoom_in_text', 'zoom_in_title', 'zoom_out_t…"
      ]
     },
     "metadata": {},
     "output_type": "display_data"
    }
   ],
   "source": [
    "# m = Map(center=center, zoom=2, close_popup_on_click=False,scroll_wheel_zoom=True)\n",
    "# marker = Marker(location=(-16.234196, -48.662695))\n",
    "# m.add_layer(marker)\n",
    "# image_path = \"11756320755.jpg\"\n",
    "# long_string_to_enlarge_the_image = \"&nbsp; \"*300\n",
    "# image_html_path = f'<img src=\"{image_path}\"></img>{long_string_to_enlarge_the_image}'\n",
    "# message1 = HTML(image_html_path)\n",
    "# Popup with a given location on the map:\n",
    "# popup = Popup( location=center, child=message1, close_button=True, auto_close=False, close_on_escape_key=True, \n",
    "#              max_width=99999999, max_height=9999999)\n",
    "# Popup associated to a layer\n",
    "# marker.popup = message1\n",
    "\n",
    "plot_map(df, df_sv, click_handler_ipysheet)\n"
   ]
  },
  {
   "cell_type": "code",
   "execution_count": null,
   "metadata": {},
   "outputs": [],
   "source": []
  },
  {
   "cell_type": "code",
   "execution_count": null,
   "metadata": {},
   "outputs": [],
   "source": []
  }
 ],
 "metadata": {
  "kernelspec": {
   "display_name": "Python 3",
   "language": "python",
   "name": "python3"
  },
  "language_info": {
   "codemirror_mode": {
    "name": "ipython",
    "version": 3
   },
   "file_extension": ".py",
   "mimetype": "text/x-python",
   "name": "python",
   "nbconvert_exporter": "python",
   "pygments_lexer": "ipython3",
   "version": "3.9.1"
  }
 },
 "nbformat": 4,
 "nbformat_minor": 4
}
